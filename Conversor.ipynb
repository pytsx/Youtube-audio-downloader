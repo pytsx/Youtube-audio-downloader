{
 "cells": [
  {
   "cell_type": "code",
   "execution_count": 1,
   "id": "53324b4a",
   "metadata": {},
   "outputs": [],
   "source": [
    "from tkinter import filedialog\n",
    "import subprocess\n",
    "import os"
   ]
  },
  {
   "cell_type": "code",
   "execution_count": 2,
   "id": "c939d98d",
   "metadata": {},
   "outputs": [],
   "source": [
    "class Conversor:\n",
    "    def __init__(self):\n",
    "        self.origin_file_path = ''\n",
    "        self.converted_file_path = ''\n",
    "        self.__filename = ''\n",
    "        self.__dir_path = ''\n",
    "        self.converted = False\n",
    "\n",
    "    def reset(self):\n",
    "        self.__init__()\n",
    "\n",
    "    def set_origin_path(self, path):\n",
    "        paths = path.split('/')\n",
    "        filename = paths[(len(paths) - 1)]\n",
    "        self.__dir_path = paths[:-1]\n",
    "        self.__filename = filename.split('.')[0]\n",
    "        self.origin_file_path = path\n",
    "\n",
    "    def get_origin_path(self):\n",
    "        return self.origin_file_path\n",
    "\n",
    "    def set_dir_file(self, dir):\n",
    "        self.__filename = dir\n",
    "\n",
    "    def file_dir_path(self):\n",
    "        return self.__dir_path\n",
    "\n",
    "    def filename(self):\n",
    "        return self.__filename\n",
    "\n",
    "    def find_file(self):\n",
    "        file_pathname = filedialog.askopenfilename()\n",
    "        self.set_origin_path(file_pathname)\n",
    "\n",
    "    def convert(self):\n",
    "        path = self.file_dir_path()\n",
    "        path.append(f\"{self.filename()}.mp3\")\n",
    "        path = '\\\\'.join(path)\n",
    "\n",
    "        command = ['ffmpeg', '-i', f\"{self.get_origin_path()}\", f\"{path}\"]\n",
    "        result = subprocess.run(command, stdout=subprocess.PIPE, stderr=subprocess.PIPE)\n",
    "\n",
    "        if result.returncode == 0:\n",
    "            print('Comando executado com sucesso')\n",
    "            os.remove(f\"{self.get_origin_path()}\")\n",
    "            self.converted = True\n",
    "        else:\n",
    "            print(f'Erro ao executar o comando: {result.stderr.decode()}')\n",
    "            self.converted = False\n"
   ]
  },
  {
   "cell_type": "code",
   "execution_count": null,
   "id": "c128330c",
   "metadata": {},
   "outputs": [],
   "source": []
  }
 ],
 "metadata": {
  "kernelspec": {
   "display_name": "Python 3 (ipykernel)",
   "language": "python",
   "name": "python3"
  },
  "language_info": {
   "codemirror_mode": {
    "name": "ipython",
    "version": 3
   },
   "file_extension": ".py",
   "mimetype": "text/x-python",
   "name": "python",
   "nbconvert_exporter": "python",
   "pygments_lexer": "ipython3",
   "version": "3.9.13"
  }
 },
 "nbformat": 4,
 "nbformat_minor": 5
}
