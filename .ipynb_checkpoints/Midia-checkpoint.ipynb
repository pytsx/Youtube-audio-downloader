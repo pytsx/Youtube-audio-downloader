{
 "cells": [
  {
   "cell_type": "code",
   "execution_count": 4,
   "id": "74eec9f3",
   "metadata": {},
   "outputs": [],
   "source": [
    "from pytube import YouTube\n",
    "from tkinter import filedialog"
   ]
  },
  {
   "cell_type": "code",
   "execution_count": 6,
   "id": "b0958034",
   "metadata": {},
   "outputs": [],
   "source": [
    "class Midia:\n",
    "    def __init__(self):\n",
    "        self.__yt_link = ''\n",
    "        self.__yt_obj = ''\n",
    "        self.__filename = ''\n",
    "        self.__dir_path = ''\n",
    "        self.__file_path = ''\n",
    "\n",
    "    def reset(self):\n",
    "        self.__init__()\n",
    "\n",
    "    def set_filename(self, filename):\n",
    "        self.__filename = filename\n",
    "        self.__set_file_path()\n",
    "\n",
    "\n",
    "    def download(self):\n",
    "        self.__yt_obj = YouTube(self.__yt_link)\n",
    "        self.audio = self.__yt_obj.streams.filter(only_audio=True).first()\n",
    "\n",
    "        if self.__filename == '':\n",
    "            self.__set_filename()\n",
    "            self.download()\n",
    "        else:\n",
    "            self.audio.download(filename=f'{self.__file_path}')\n",
    "\n",
    "    def title(self):\n",
    "        return f\"{self.__yt_obj.title}\".replace(\" \", \"_\")\n",
    "\n",
    "    def __set_filename(self):\n",
    "        self.__filename = self.title()[:16]\n",
    "        self.__set_file_path()\n",
    "\n",
    "    def set_yt_link(self, __yt_link):\n",
    "        self.__yt_link = __yt_link\n",
    "\n",
    "    def __set_file_path(self):\n",
    "        dir = self.__dir_path.split('/')\n",
    "        dir.append(f'{self.__filename}.mp4')\n",
    "        self.__file_path = '\\\\'.join(dir)\n",
    "        print(self.__file_path)\n",
    "\n",
    "    def set_dir_path(self):\n",
    "        self.__dir_path = filedialog.askdirectory()\n",
    "\n",
    "\n",
    "    def get_dir_path(self):\n",
    "        return self.__dir_path"
   ]
  },
  {
   "cell_type": "code",
   "execution_count": null,
   "id": "c28de133",
   "metadata": {},
   "outputs": [],
   "source": []
  }
 ],
 "metadata": {
  "kernelspec": {
   "display_name": "Python 3 (ipykernel)",
   "language": "python",
   "name": "python3"
  },
  "language_info": {
   "codemirror_mode": {
    "name": "ipython",
    "version": 3
   },
   "file_extension": ".py",
   "mimetype": "text/x-python",
   "name": "python",
   "nbconvert_exporter": "python",
   "pygments_lexer": "ipython3",
   "version": "3.9.13"
  }
 },
 "nbformat": 4,
 "nbformat_minor": 5
}
