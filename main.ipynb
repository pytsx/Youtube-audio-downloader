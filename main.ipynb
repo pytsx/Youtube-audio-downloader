{
 "cells": [
  {
   "cell_type": "code",
   "execution_count": 1,
   "id": "3638b7ef",
   "metadata": {},
   "outputs": [],
   "source": [
    "import tkinter\n",
    "import customtkinter"
   ]
  },
  {
   "cell_type": "code",
   "execution_count": 20,
   "id": "096db1d7",
   "metadata": {},
   "outputs": [],
   "source": [
    "%run Midia.ipynb\n",
    "%run Conversor.ipynb"
   ]
  },
  {
   "cell_type": "code",
   "execution_count": 21,
   "id": "71d7ba56",
   "metadata": {},
   "outputs": [],
   "source": [
    "musica = Midia()\n",
    "conversor = Conversor()"
   ]
  },
  {
   "cell_type": "code",
   "execution_count": 22,
   "id": "e7ecf9e0",
   "metadata": {},
   "outputs": [],
   "source": [
    "# download function\n",
    "def startDownload():\n",
    "    if musica.get_dir_path() != '':\n",
    "        try:\n",
    "            feedback.configure(text=\"\")\n",
    "            title.configure(text=f\"{musica.title()}\")\n",
    "            musica.set_yt_link(link.get())\n",
    "            musica.set_filename(musica_title_value.get())\n",
    "            musica.download()\n",
    "            feedback.configure(text=\"Downloaded!\", text_color=\"green\")\n",
    "            musica.reset()\n",
    "        except Exception as e:\n",
    "            feedback.configure(text=f\"{e}\", text_color=\"red\")\n",
    "    else:\n",
    "        feedback.configure(text=f'defina um diretório{musica.get_dir_path()}', text_color='red')\n"
   ]
  },
  {
   "cell_type": "code",
   "execution_count": 23,
   "id": "8947d28a",
   "metadata": {},
   "outputs": [],
   "source": [
    "def open_file():\n",
    "    conversor.find_file()\n",
    "    feedback.configure(text=f\"{conversor.get_origin_path()}\", text_color=\"blue\")"
   ]
  },
  {
   "cell_type": "code",
   "execution_count": 24,
   "id": "3ac15ba1",
   "metadata": {},
   "outputs": [],
   "source": [
    "def convert():\n",
    "    if conversor.file_dir_path() == \"\":\n",
    "        feedback.configure(text=\"escolha um arquivo\", text_color=\"red\")\n",
    "    elif \".mp3\" in conversor.get_origin_path():\n",
    "        feedback.configure(text=\"escolha um arquivo .mp4\", text_color=\"red\")\n",
    "    else:\n",
    "        conversor.convert()\n",
    "        if conversor.converted:\n",
    "            feedback.configure(text=\"convertido para .mp3\", text_color=\"green\")\n",
    "            conversor.reset()\n",
    "        else:\n",
    "            feedback.configure(text=\" \", text_color=\"black\")"
   ]
  },
  {
   "cell_type": "code",
   "execution_count": 25,
   "id": "a8816579",
   "metadata": {},
   "outputs": [],
   "source": [
    "# System Settings\n",
    "customtkinter.set_appearance_mode(\"System\")\n",
    "customtkinter.set_default_color_theme(\"blue\")\n"
   ]
  },
  {
   "cell_type": "code",
   "execution_count": 26,
   "id": "7cbb8c5e",
   "metadata": {},
   "outputs": [],
   "source": [
    "# criando a janela\n",
    "app = customtkinter.CTk()\n",
    "app.title(\"Youtube download\")\n",
    "app.geometry(\"780x480\")"
   ]
  },
  {
   "cell_type": "code",
   "execution_count": 27,
   "id": "48be2cfb",
   "metadata": {},
   "outputs": [],
   "source": [
    "# adding UI Element\n",
    "title = customtkinter.CTkLabel(app, text=\"insira o link do Youtube: \")\n",
    "title.pack(padx=10, pady=10)"
   ]
  },
  {
   "cell_type": "code",
   "execution_count": 28,
   "id": "4e48fffc",
   "metadata": {},
   "outputs": [],
   "source": [
    "# link input\n",
    "url_var = tkinter.StringVar()\n",
    "link = customtkinter.CTkEntry(app, width=350, height=40, textvariable=url_var)\n",
    "link.pack()\n"
   ]
  },
  {
   "cell_type": "code",
   "execution_count": 29,
   "id": "602cf6c6",
   "metadata": {},
   "outputs": [],
   "source": [
    "# dir path\n",
    "dir_path = customtkinter.CTkButton(app, text='escolha o diretório', command=musica.set_dir_path)\n",
    "dir_path.pack(padx=10, pady=10)"
   ]
  },
  {
   "cell_type": "code",
   "execution_count": 30,
   "id": "2717d301",
   "metadata": {},
   "outputs": [],
   "source": [
    "# title set\n",
    "musica_title_value = tkinter.StringVar()\n",
    "musica_title = customtkinter.CTkEntry(app, width=350, height=40, textvariable=musica_title_value)\n",
    "musica_title.pack(padx=10, pady=10)\n",
    "\n"
   ]
  },
  {
   "cell_type": "code",
   "execution_count": 31,
   "id": "2b13e86c",
   "metadata": {},
   "outputs": [],
   "source": [
    "# download button\n",
    "download = customtkinter.CTkButton(app, text=\"download\", command=startDownload)\n",
    "download.pack(padx=10, pady=10)\n"
   ]
  },
  {
   "cell_type": "code",
   "execution_count": 32,
   "id": "fe85b7e7",
   "metadata": {},
   "outputs": [],
   "source": [
    "# feedback\n",
    "feedback = customtkinter.CTkLabel(app, text=\"\")\n",
    "feedback.pack(padx=10, pady=10)\n"
   ]
  },
  {
   "cell_type": "code",
   "execution_count": 33,
   "id": "e6db58be",
   "metadata": {},
   "outputs": [],
   "source": [
    "# open file\n",
    "find_file = customtkinter.CTkButton(app, text=\"procurar arquivo\", command=open_file)\n",
    "find_file.pack(padx=10, pady=10)\n"
   ]
  },
  {
   "cell_type": "code",
   "execution_count": 34,
   "id": "f32398d2",
   "metadata": {},
   "outputs": [],
   "source": [
    "#convert button\n",
    "convert = customtkinter.CTkButton(app, text=\"converter\", command=convert)\n",
    "convert.pack(padx=10, pady=10)\n"
   ]
  },
  {
   "cell_type": "code",
   "execution_count": 35,
   "id": "f8a99cd9",
   "metadata": {},
   "outputs": [
    {
     "name": "stdout",
     "output_type": "stream",
     "text": [
      "C:\\Users\\henri\\Desktop\\.mp4\n",
      "C:\\Users\\henri\\Desktop\\Nathy_Peluso_-_E.mp4\n",
      "Comando executado com sucesso\n"
     ]
    }
   ],
   "source": [
    "app.mainloop()"
   ]
  },
  {
   "cell_type": "code",
   "execution_count": null,
   "id": "4b98219c",
   "metadata": {},
   "outputs": [],
   "source": []
  }
 ],
 "metadata": {
  "kernelspec": {
   "display_name": "Python 3 (ipykernel)",
   "language": "python",
   "name": "python3"
  },
  "language_info": {
   "codemirror_mode": {
    "name": "ipython",
    "version": 3
   },
   "file_extension": ".py",
   "mimetype": "text/x-python",
   "name": "python",
   "nbconvert_exporter": "python",
   "pygments_lexer": "ipython3",
   "version": "3.9.13"
  }
 },
 "nbformat": 4,
 "nbformat_minor": 5
}
