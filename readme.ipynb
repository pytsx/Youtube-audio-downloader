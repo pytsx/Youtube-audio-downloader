{
 "cells": [
  {
   "cell_type": "markdown",
   "id": "8e2239c4",
   "metadata": {},
   "source": [
    "This is a simple Python project for downloading videos from YouTube and converting audio files to MP3 format.\n",
    "\n",
    "\n",
    "Installation\n",
    "\n",
    "Clone the repository to your local machine.\n",
    "\n",
    "Install the required dependencies by running pip install -r requirements.txt in your terminal.\n",
    "\n",
    "\n",
    "Usage\n",
    "\n",
    "Run the main.py file.\n",
    "\n",
    "Insert the YouTube link for the video you want to download.\n",
    "\n",
    "Choose the directory where you want to save the downloaded video.\n",
    "\n",
    "Insert the desired name for the downloaded file.\n",
    "\n",
    "Click the \"Download\" button to start the download process.\n",
    "\n",
    "To convert a file to MP3, click on the \"Procurar Arquivo\" button to select the file you want to \n",
    "convert.\n",
    "\n",
    "Click the \"Converter\" button to convert the selected file to MP3.\n",
    "\n",
    "\n",
    "Dependencies\n",
    "\n",
    "This project uses the following dependencies:\n",
    "\n",
    "tkinter\n",
    "\n",
    "customtkinter\n",
    "\n",
    "subprocess\n",
    "\n",
    "os\n",
    "\n",
    "filedialog\n",
    "\n",
    "Media\n",
    "\n",
    "Conversor\n",
    "\n",
    "\n",
    "Contributing\n",
    "\n",
    "Feel free to fork the repository and make any changes you see fit. Submit a pull request if you wish to \n",
    "contribute your changes back to the project.\n",
    "\n",
    "\n",
    "License\n",
    "\n",
    "This project is licensed under the MIT License. See the LICENSE file for details.\n"
   ]
  },
  {
   "cell_type": "code",
   "execution_count": null,
   "id": "78f34514",
   "metadata": {},
   "outputs": [],
   "source": [
    "\n"
   ]
  }
 ],
 "metadata": {
  "kernelspec": {
   "display_name": "Python 3 (ipykernel)",
   "language": "python",
   "name": "python3"
  },
  "language_info": {
   "codemirror_mode": {
    "name": "ipython",
    "version": 3
   },
   "file_extension": ".py",
   "mimetype": "text/x-python",
   "name": "python",
   "nbconvert_exporter": "python",
   "pygments_lexer": "ipython3",
   "version": "3.9.13"
  }
 },
 "nbformat": 4,
 "nbformat_minor": 5
}
